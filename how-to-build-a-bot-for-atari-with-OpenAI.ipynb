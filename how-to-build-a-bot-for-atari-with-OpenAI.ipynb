{
 "cells": [
  {
   "attachments": {},
   "cell_type": "markdown",
   "metadata": {},
   "source": [
    "Step 1 — Creating the Project and Installing Dependencies"
   ]
  },
  {
   "attachments": {},
   "cell_type": "markdown",
   "metadata": {},
   "source": [
    "python -m pip install \n",
    "\n",
    "- gym==0.9.5 \n",
    "- tensorflow==1.5.0 \n",
    "- tensorpack==0.8.0\n",
    "- numpy==1.14.0 \n",
    "- scipy==1.1.0 \n",
    "- opencv-python==3.4.1.15"
   ]
  },
  {
   "attachments": {},
   "cell_type": "markdown",
   "metadata": {},
   "source": [
    "python -m pip install gym[atari]"
   ]
  },
  {
   "attachments": {},
   "cell_type": "markdown",
   "metadata": {},
   "source": [
    "Step 2 — Creating a Baseline Random Agent with Gym"
   ]
  },
  {
   "cell_type": "code",
   "execution_count": null,
   "metadata": {},
   "outputs": [],
   "source": [
    "import gym\n",
    "import random"
   ]
  },
  {
   "cell_type": "code",
   "execution_count": null,
   "metadata": {},
   "outputs": [],
   "source": [
    "def main():\n",
    "env = gym.make('SpaceInvaders-v0')\n",
    "env.reset()\n",
    "    \n",
    "    episode_reward = 0\n",
    "    while True:\n",
    "        action = env.action_space.sample()\n",
    "        _, reward, done, _ = env.step(action)\n",
    "        episode_reward += reward\n",
    "        \n",
    "        if done:\n",
    "            print('Reward: %s' % episode_reward)\n",
    "        \n",
    "        break"
   ]
  }
 ],
 "metadata": {
  "language_info": {
   "name": "python"
  },
  "orig_nbformat": 4
 },
 "nbformat": 4,
 "nbformat_minor": 2
}
